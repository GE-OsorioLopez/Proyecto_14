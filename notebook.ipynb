{
 "cells": [
  {
   "cell_type": "markdown",
   "metadata": {},
   "source": [
    "El servicio de venta de autos usados Rusty Bargain está desarrollando una aplicación para atraer nuevos clientes. Gracias a esa app, puedes averiguar rápidamente el valor de mercado de tu coche. Tienes acceso al historial: especificaciones técnicas, versiones de equipamiento y precios. Tienes que crear un modelo que determine el valor de mercado.\n",
    "A Rusty Bargain le interesa:\n",
    "- la calidad de la predicción;\n",
    "- la velocidad de la predicción;\n",
    "- el tiempo requerido para el entrenamiento"
   ]
  },
  {
   "cell_type": "markdown",
   "metadata": {},
   "source": [
    "## Preparación de datos"
   ]
  },
  {
   "cell_type": "code",
   "execution_count": 39,
   "metadata": {},
   "outputs": [],
   "source": [
    "import pandas as pd\n",
    "import numpy as np\n",
    "\n"
   ]
  },
  {
   "cell_type": "markdown",
   "metadata": {},
   "source": [
    "Procedemos a leer los datos de la base de datos usando la librería pandas, una vez importados los datos, procederemos a ver los datos, en que condicion estan, si faltan valores y en que cantidad. Tambien si los tipos de datos corresponden a la columna."
   ]
  },
  {
   "cell_type": "code",
   "execution_count": 40,
   "metadata": {},
   "outputs": [
    {
     "name": "stdout",
     "output_type": "stream",
     "text": [
      "<class 'pandas.core.frame.DataFrame'>\n",
      "RangeIndex: 354369 entries, 0 to 354368\n",
      "Data columns (total 16 columns):\n",
      " #   Column             Non-Null Count   Dtype \n",
      "---  ------             --------------   ----- \n",
      " 0   DateCrawled        354369 non-null  object\n",
      " 1   Price              354369 non-null  int64 \n",
      " 2   VehicleType        316879 non-null  object\n",
      " 3   RegistrationYear   354369 non-null  int64 \n",
      " 4   Gearbox            334536 non-null  object\n",
      " 5   Power              354369 non-null  int64 \n",
      " 6   Model              334664 non-null  object\n",
      " 7   Mileage            354369 non-null  int64 \n",
      " 8   RegistrationMonth  354369 non-null  int64 \n",
      " 9   FuelType           321474 non-null  object\n",
      " 10  Brand              354369 non-null  object\n",
      " 11  NotRepaired        283215 non-null  object\n",
      " 12  DateCreated        354369 non-null  object\n",
      " 13  NumberOfPictures   354369 non-null  int64 \n",
      " 14  PostalCode         354369 non-null  int64 \n",
      " 15  LastSeen           354369 non-null  object\n",
      "dtypes: int64(7), object(9)\n",
      "memory usage: 43.3+ MB\n",
      "None\n"
     ]
    }
   ],
   "source": [
    "df=pd.read_csv('car_data.csv')\n",
    "print(df.info())"
   ]
  },
  {
   "cell_type": "code",
   "execution_count": 41,
   "metadata": {},
   "outputs": [
    {
     "name": "stdout",
     "output_type": "stream",
     "text": [
      "Conteo de valores nulos por columna:\n",
      "                   Missing Count  Percentage\n",
      "NotRepaired                71154   20.079070\n",
      "VehicleType                37490   10.579368\n",
      "FuelType                   32895    9.282697\n",
      "Gearbox                    19833    5.596709\n",
      "Model                      19705    5.560588\n",
      "Price                          0    0.000000\n",
      "RegistrationYear               0    0.000000\n",
      "DateCrawled                    0    0.000000\n",
      "Mileage                        0    0.000000\n",
      "Power                          0    0.000000\n",
      "RegistrationMonth              0    0.000000\n",
      "Brand                          0    0.000000\n",
      "DateCreated                    0    0.000000\n",
      "NumberOfPictures               0    0.000000\n",
      "PostalCode                     0    0.000000\n",
      "LastSeen                       0    0.000000\n"
     ]
    }
   ],
   "source": [
    "\n",
    "print(\"Conteo de valores nulos por columna:\")\n",
    "missing_data = df.isnull().sum()\n",
    "missing_percentage = (df.isnull().sum() / len(df)) * 100\n",
    "missing_info = pd.DataFrame({'Missing Count': missing_data,'Percentage': missing_percentage}).sort_values('Percentage', ascending=False)\n",
    "print(missing_info)"
   ]
  },
  {
   "cell_type": "code",
   "execution_count": 42,
   "metadata": {},
   "outputs": [],
   "source": [
    "df[['NotRepaired','VehicleType','FuelType','Gearbox','Model']] = df[['NotRepaired','VehicleType','FuelType','Gearbox','Model']].fillna('unknown')\n",
    "df[['VehicleType','Gearbox','FuelType','NotRepaired']]=df[['VehicleType','Gearbox','FuelType','NotRepaired']].astype('category')\n"
   ]
  },
  {
   "cell_type": "markdown",
   "metadata": {},
   "source": [
    "Voy a comenzar a tratar los valores ausentes. en el caso de \"NotRepaired\" como puede ser si o no, y tenemos este valor pero tiene un alto porcentaje de mi dataset, pondre otro valor como \"unknow\"."
   ]
  },
  {
   "cell_type": "code",
   "execution_count": 43,
   "metadata": {},
   "outputs": [
    {
     "name": "stdout",
     "output_type": "stream",
     "text": [
      "Conteo de valores nulos por columna:\n",
      "                   Missing Count  Percentage\n",
      "DateCrawled                    0         0.0\n",
      "Price                          0         0.0\n",
      "VehicleType                    0         0.0\n",
      "RegistrationYear               0         0.0\n",
      "Gearbox                        0         0.0\n",
      "Power                          0         0.0\n",
      "Model                          0         0.0\n",
      "Mileage                        0         0.0\n",
      "RegistrationMonth              0         0.0\n",
      "FuelType                       0         0.0\n",
      "Brand                          0         0.0\n",
      "NotRepaired                    0         0.0\n",
      "DateCreated                    0         0.0\n",
      "NumberOfPictures               0         0.0\n",
      "PostalCode                     0         0.0\n",
      "LastSeen                       0         0.0\n"
     ]
    }
   ],
   "source": [
    "print(\"Conteo de valores nulos por columna:\")\n",
    "missing_data = df.isnull().sum()\n",
    "missing_percentage = (df.isnull().sum() / len(df)) * 100\n",
    "missing_info = pd.DataFrame({'Missing Count': missing_data,'Percentage': missing_percentage}).sort_values('Percentage', ascending=False)\n",
    "print(missing_info)\n"
   ]
  },
  {
   "cell_type": "markdown",
   "metadata": {},
   "source": [
    "Terminamos de ver el tema de valores ausentes , como las columnas eran categoricas por eso se procedio a imputar en todas la palabra \"Unknown\". Ahora procederemos a ver la coherencia de los datos."
   ]
  },
  {
   "cell_type": "code",
   "execution_count": 44,
   "metadata": {},
   "outputs": [
    {
     "name": "stdout",
     "output_type": "stream",
     "text": [
      "               Price  RegistrationYear          Power        Mileage  \\\n",
      "count  354369.000000     354369.000000  354369.000000  354369.000000   \n",
      "mean     4416.656776       2004.234448     110.094337  128211.172535   \n",
      "std      4514.158514         90.227958     189.850405   37905.341530   \n",
      "min         0.000000       1000.000000       0.000000    5000.000000   \n",
      "25%      1050.000000       1999.000000      69.000000  125000.000000   \n",
      "50%      2700.000000       2003.000000     105.000000  150000.000000   \n",
      "75%      6400.000000       2008.000000     143.000000  150000.000000   \n",
      "max     20000.000000       9999.000000   20000.000000  150000.000000   \n",
      "\n",
      "       RegistrationMonth  NumberOfPictures     PostalCode  \n",
      "count      354369.000000          354369.0  354369.000000  \n",
      "mean            5.714645               0.0   50508.689087  \n",
      "std             3.726421               0.0   25783.096248  \n",
      "min             0.000000               0.0    1067.000000  \n",
      "25%             3.000000               0.0   30165.000000  \n",
      "50%             6.000000               0.0   49413.000000  \n",
      "75%             9.000000               0.0   71083.000000  \n",
      "max            12.000000               0.0   99998.000000  \n"
     ]
    }
   ],
   "source": [
    "print(df.describe())"
   ]
  },
  {
   "cell_type": "markdown",
   "metadata": {},
   "source": [
    "Observamos varias anomalais en los datos, como que en precio hhubo una venta por 0 euros, en el caso del año del registro hay desde 1000 hasta 9999, en el caso de power hay un valor de 20000 y en el kilometraje hay un valor de 9999999, todos estos valores no son coherentes con la realidad, por lo que se procederá a eliminarlos."
   ]
  },
  {
   "cell_type": "code",
   "execution_count": 45,
   "metadata": {},
   "outputs": [
    {
     "name": "stdout",
     "output_type": "stream",
     "text": [
      "               Price  RegistrationYear          Power        Mileage  \\\n",
      "count  340024.000000     354198.000000  313879.000000  354369.000000   \n",
      "mean     4602.471902       2003.084789     122.330895  128211.172535   \n",
      "std      4514.902742          7.536418     106.232815   37905.341530   \n",
      "min       101.000000       1910.000000      10.000000    5000.000000   \n",
      "25%      1200.000000       1999.000000      75.000000  125000.000000   \n",
      "50%      2900.000000       2003.000000     110.000000  150000.000000   \n",
      "75%      6500.000000       2008.000000     150.000000  150000.000000   \n",
      "max     20000.000000       2019.000000    9710.000000  150000.000000   \n",
      "\n",
      "       RegistrationMonth  NumberOfPictures     PostalCode  \n",
      "count      354369.000000          354369.0  354369.000000  \n",
      "mean            5.714645               0.0   50508.689087  \n",
      "std             3.726421               0.0   25783.096248  \n",
      "min             0.000000               0.0    1067.000000  \n",
      "25%             3.000000               0.0   30165.000000  \n",
      "50%             6.000000               0.0   49413.000000  \n",
      "75%             9.000000               0.0   71083.000000  \n",
      "max            12.000000               0.0   99998.000000  \n"
     ]
    }
   ],
   "source": [
    "df['Price']=df['Price'].drop(df[df['Price']<=100].index)\n",
    "df['Power']=df['Power'].drop(df[(df['Power']>=10000) | (df['Power']<10)].index)\n",
    "df['RegistrationYear']=df['RegistrationYear'].drop(df[(df['RegistrationYear']<1900) | (df['RegistrationYear']>2025)].index)\n",
    "print(df.describe())\n",
    "\n"
   ]
  },
  {
   "cell_type": "code",
   "execution_count": null,
   "metadata": {},
   "outputs": [],
   "source": []
  },
  {
   "cell_type": "markdown",
   "metadata": {},
   "source": [
    "Listo tenemos el df limpio y listo para entrenar el modelo."
   ]
  },
  {
   "cell_type": "markdown",
   "metadata": {},
   "source": [
    "## Entrenamiento del modelo "
   ]
  },
  {
   "cell_type": "code",
   "execution_count": null,
   "metadata": {},
   "outputs": [],
   "source": []
  },
  {
   "cell_type": "markdown",
   "metadata": {},
   "source": [
    "## Análisis del modelo"
   ]
  },
  {
   "cell_type": "code",
   "execution_count": null,
   "metadata": {},
   "outputs": [],
   "source": []
  },
  {
   "cell_type": "markdown",
   "metadata": {},
   "source": [
    "# Lista de control"
   ]
  },
  {
   "cell_type": "markdown",
   "metadata": {},
   "source": [
    "Escribe 'x' para verificar. Luego presiona Shift+Enter"
   ]
  },
  {
   "cell_type": "markdown",
   "metadata": {},
   "source": [
    "- [x]  Jupyter Notebook está abierto\n",
    "- [ ]  El código no tiene errores- [ ]  Las celdas con el código han sido colocadas en orden de ejecución- [ ]  Los datos han sido descargados y preparados- [ ]  Los modelos han sido entrenados\n",
    "- [ ]  Se realizó el análisis de velocidad y calidad de los modelos"
   ]
  },
  {
   "cell_type": "code",
   "execution_count": null,
   "metadata": {},
   "outputs": [],
   "source": []
  }
 ],
 "metadata": {
  "kernelspec": {
   "display_name": "Python 3",
   "language": "python",
   "name": "python3"
  },
  "language_info": {
   "codemirror_mode": {
    "name": "ipython",
    "version": 3
   },
   "file_extension": ".py",
   "mimetype": "text/x-python",
   "name": "python",
   "nbconvert_exporter": "python",
   "pygments_lexer": "ipython3",
   "version": "3.13.0"
  }
 },
 "nbformat": 4,
 "nbformat_minor": 4
}
